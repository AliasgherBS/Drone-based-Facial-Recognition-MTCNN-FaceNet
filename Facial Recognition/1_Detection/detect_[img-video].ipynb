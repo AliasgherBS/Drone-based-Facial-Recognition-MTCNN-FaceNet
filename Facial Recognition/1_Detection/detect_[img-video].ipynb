{
 "cells": [
  {
   "cell_type": "markdown",
   "id": "c9721530",
   "metadata": {},
   "source": [
    "# Libraries"
   ]
  },
  {
   "cell_type": "code",
   "execution_count": 1,
   "id": "e2601f28",
   "metadata": {},
   "outputs": [],
   "source": [
    "# pip install mtcnn\n",
    "# pip install cmake\n",
    "# pip intall dlib\n",
    "# and vs studio\n",
    "\n",
    "import cv2\n",
    "import matplotlib.pyplot as plt\n",
    "import numpy as np\n",
    "import pandas as pd\n",
    "import os\n",
    "import time\n",
    "import dlib\n",
    "from mtcnn import MTCNN\n",
    "from retinaface import RetinaFace"
   ]
  },
  {
   "cell_type": "markdown",
   "id": "74959a52",
   "metadata": {},
   "source": [
    "# Loading Models"
   ]
  },
  {
   "cell_type": "code",
   "execution_count": 2,
   "id": "336e7648",
   "metadata": {},
   "outputs": [],
   "source": [
    "model_mtcnn = MTCNN()\n",
    "\n",
    "model_dlibHOG = dlib.get_frontal_face_detector()\n",
    "\n",
    "model_dlibCNN = dlib.cnn_face_detection_model_v1(\"../Models/mmod_human_face_detector.dat\")\n",
    "\n",
    "modelFile = \"../Models/res10_300x300_ssd_iter_140000.caffemodel\"\n",
    "configFile = \"../Models/Resnet_SSD_deploy.prototxt\"\n",
    "model_SSD = cv2.dnn.readNetFromCaffe(configFile, modelFile)\n",
    "\n",
    "#retina-face needs no initial setup\n",
    "\n",
    "classifier = cv2.CascadeClassifier('../Models/haarcascade_frontalface2.xml')"
   ]
  },
  {
   "cell_type": "markdown",
   "id": "6f0cb299",
   "metadata": {},
   "source": [
    "# Model Functions"
   ]
  },
  {
   "cell_type": "code",
   "execution_count": 44,
   "id": "4302908c",
   "metadata": {},
   "outputs": [],
   "source": [
    "def mtcnn(img):\n",
    "    gray = cv2.cvtColor(img, cv2.COLOR_BGR2GRAY)\n",
    "    img_rgb = cv2.cvtColor(img, cv2.COLOR_BGR2RGB)\n",
    "    faces = model_mtcnn.detect_faces(img_rgb)\n",
    "    for result in faces:\n",
    "        x, y, w, h = result['box']\n",
    "        x1, y1 = x + w, y + h\n",
    "        cv2.rectangle(img, (x, y), (x1, y1), (0, 0, 255), 2)\n",
    "\n",
    "\n",
    "def dlibHog(img):\n",
    "    faces = model_dlibHOG(img, 2)\n",
    "    for result in faces:\n",
    "        x = result.left()\n",
    "        y = result.top()\n",
    "        x1 = result.right()\n",
    "        y1 = result.bottom()\n",
    "        cv2.rectangle(img, (x, y), (x1, y1), (0, 0, 255), 2)\n",
    "    \n",
    "    \n",
    "# def dlib_cnn(img):\n",
    "#     faces = model_dlibCNN(img, 2)\n",
    "#     for result in faces:\n",
    "#         x = result.left()\n",
    "#         y = result.top()\n",
    "#         x1 = result.right()\n",
    "#         y1 = result.bottom()\n",
    "#         cv2.rectangle(img, (x, y), (x1, y1), (0, 0, 255), 2)\n",
    "\n",
    "\n",
    "def ssd(img):\n",
    "    blob = cv2.dnn.blobFromImage(cv2.resize(img, (300, 300)), 1.0, (300, 300), (104.0, 117.0, 123.0))\n",
    "    model_SSD.setInput(blob)\n",
    "    faces = model_SSD.forward()\n",
    "    for i in range(faces.shape[2]):\n",
    "        confidence = faces[0, 0, i, 2]\n",
    "        if confidence > 0.5:\n",
    "            box = faces[0, 0, i, 3:7] * np.array([width, height, width, height])\n",
    "            (x, y, x1, y1) = box.astype(\"int\")\n",
    "            cv2.rectangle(img, (x, y), (x1, y1), (0, 0, 255), 2)\n",
    "    \n",
    "    \n",
    "def retinaface(img):\n",
    "    faces = RetinaFace.detect_faces(img)\n",
    "    try:\n",
    "        for i in faces.keys():\n",
    "            facial_parts = faces[i]\n",
    "            recognize_face_area = facial_parts[\"facial_area\"]\n",
    "            cv2.rectangle(img, (recognize_face_area[2], recognize_face_area[3]), (recognize_face_area[0], recognize_face_area[1]), (0, 0, 255), 2)\n",
    "    except:\n",
    "        pass\n",
    "    \n",
    "    \n",
    "def haar(img):\n",
    "    faces = classifier.detectMultiScale(img)\n",
    "    for result in faces:\n",
    "        x, y, w, h = result\n",
    "        x1, y1 = x + w, y + h\n",
    "        cv2.rectangle(img, (x, y), (x1, y1), (0, 0, 255), 2)"
   ]
  },
  {
   "cell_type": "markdown",
   "id": "79025545",
   "metadata": {},
   "source": [
    "# Image Processing with timestamps\n"
   ]
  },
  {
   "cell_type": "code",
   "execution_count": 45,
   "id": "c8a21017",
   "metadata": {
    "scrolled": false
   },
   "outputs": [],
   "source": [
    "output_path = 'Results\\Light\\Outputs\\SSD'\n",
    "\n",
    "if not os.path.exists(output_path):\n",
    "    os.makedirs(output_path)\n",
    "\n",
    "\n",
    "input_path = 'Results\\Light\\Inputs'\n",
    "images = os.listdir(input_path)\n",
    "\n",
    "for image in images:\n",
    "    img = cv2.imread(os.path.join(input_path, image))\n",
    "    start = time.time()\n",
    "    ssd(img)\n",
    "    end = time.time()\n",
    "    total_t = end - start\n",
    "    cv2.putText(img, f'Elapsed Time: {format(float(total_t), \".3f\")}', (5,25), cv2.FONT_HERSHEY_SIMPLEX, 1, (0,255,0), 2)\n",
    "    cv2.imwrite(os.path.join(output_path, image), img)\n",
    "    plt.figure(figsize= (10, 10))\n",
    "    plt.imshow(img[:, :, ::-1])\n",
    "    plt.show()"
   ]
  },
  {
   "cell_type": "markdown",
   "id": "8e89e65f",
   "metadata": {},
   "source": [
    "# Video Processing with FPS & Timestamp"
   ]
  },
  {
   "cell_type": "code",
   "execution_count": null,
   "id": "167005ea",
   "metadata": {},
   "outputs": [],
   "source": [
    "input_path = 'Results\\drone.mp4'\n",
    "\n",
    "video = cv2.VideoCapture(input_path)\n",
    "\n",
    "\n",
    "width = int(video.get(3))\n",
    "height = int(video.get(4))\n",
    "\n",
    "# width_dis = int(video.get(cv2.CAP_PROP_FRAME_WIDTH))\n",
    "# height_dis = int(video.get(cv2.CAP_PROP_FRAME_HEIGHT))\n",
    "\n",
    "# Create a window to display the video\n",
    "cv2.namedWindow(\"Video\", cv2.WINDOW_NORMAL)\n",
    "cv2.resizeWindow(\"Video\", width, height)\n",
    "\n",
    "fourcc = cv2.VideoWriter_fourcc(*'MP4V')\n",
    "\n",
    "# Define the codec and create VideoWriter object.The output is stored in 'output.mp4' file.\n",
    "out = cv2.VideoWriter('Results\\drone_MTCNN.mp4', fourcc, 24, (width,height))\n",
    "\n",
    "elapsed = 0\n",
    "if (video.isOpened() == False):\n",
    "    print(\"Web Camera not detected\")\n",
    "while (True):\n",
    "    ret, frame = video.read()\n",
    "    if ret == True:\n",
    "        start = time.time()\n",
    "        #for faster times use: ssd or haar\n",
    "        mtcnn(frame)\n",
    "        end = time.time()\n",
    "        totalTime = end - start\n",
    "        elapsed += totalTime\n",
    "        fps = 1 / totalTime\n",
    "        cv2.putText(frame, f'FPS: {int(fps)}, Elapsed Time: {format(float(elapsed), \".3f\")}', (5,40), cv2.FONT_HERSHEY_SIMPLEX, 1.5, (0,255,0), 2)\n",
    "        out.write(frame)\n",
    "        cv2.imshow(\"Video\",frame)\n",
    "        if cv2.waitKey(1) & 0xFF == ord('q'):\n",
    "            break\n",
    "    else:\n",
    "        break\n",
    "\n",
    "video.release()\n",
    "out.release()\n",
    "cv2.destroyAllWindows()"
   ]
  }
 ],
 "metadata": {
  "kernelspec": {
   "display_name": "Python 3 (ipykernel)",
   "language": "python",
   "name": "python3"
  },
  "language_info": {
   "codemirror_mode": {
    "name": "ipython",
    "version": 3
   },
   "file_extension": ".py",
   "mimetype": "text/x-python",
   "name": "python",
   "nbconvert_exporter": "python",
   "pygments_lexer": "ipython3",
   "version": "3.9.12"
  }
 },
 "nbformat": 4,
 "nbformat_minor": 5
}
