{
 "cells": [
  {
   "cell_type": "code",
   "execution_count": 1,
   "id": "e6dc2d79",
   "metadata": {},
   "outputs": [],
   "source": [
    "import os\n",
    "import shutil\n",
    "\n",
    "# Path to the directory where the images are stored\n",
    "directory_path = \"../Databases/Original/Jamea\"\n",
    "\n",
    "# Get a list of all image files in the directory\n",
    "image_files = [file for file in os.listdir(directory_path) if file.endswith(\".jpg\") or file.endswith(\".png\")]\n",
    "\n",
    "# Create a folder for each image file and move the file to that folder\n",
    "for image_file in image_files:\n",
    "    folder_path = os.path.join(directory_path, os.path.splitext(image_file)[0])\n",
    "    os.makedirs(folder_path, exist_ok=True)\n",
    "    image_path = os.path.join(directory_path, image_file)\n",
    "    shutil.move(image_path, folder_path)\n"
   ]
  }
 ],
 "metadata": {
  "kernelspec": {
   "display_name": "Python 3 (ipykernel)",
   "language": "python",
   "name": "python3"
  },
  "language_info": {
   "codemirror_mode": {
    "name": "ipython",
    "version": 3
   },
   "file_extension": ".py",
   "mimetype": "text/x-python",
   "name": "python",
   "nbconvert_exporter": "python",
   "pygments_lexer": "ipython3",
   "version": "3.9.12"
  }
 },
 "nbformat": 4,
 "nbformat_minor": 5
}
